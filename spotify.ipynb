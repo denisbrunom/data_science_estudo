{
  "nbformat": 4,
  "nbformat_minor": 0,
  "metadata": {
    "colab": {
      "name": "spotify.ipynb",
      "provenance": [],
      "toc_visible": true,
      "mount_file_id": "1RydDi2XWf9DD7tiA_m3uv1TrgVvonbJp",
      "authorship_tag": "ABX9TyM+Wb3nBrNMldVUS5Sleooj",
      "include_colab_link": true
    },
    "kernelspec": {
      "name": "python3",
      "display_name": "Python 3"
    }
  },
  "cells": [
    {
      "cell_type": "markdown",
      "metadata": {
        "id": "view-in-github",
        "colab_type": "text"
      },
      "source": [
        "<a href=\"https://colab.research.google.com/github/denisbrunom/data_science_estudo/blob/master/spotify.ipynb\" target=\"_parent\"><img src=\"https://colab.research.google.com/assets/colab-badge.svg\" alt=\"Open In Colab\"/></a>"
      ]
    },
    {
      "cell_type": "markdown",
      "metadata": {
        "id": "e0uAOeif--zO",
        "colab_type": "text"
      },
      "source": [
        "# Uma breve introdução sobre o pandas\n",
        "\n"
      ]
    },
    {
      "cell_type": "markdown",
      "metadata": {
        "id": "8_jdh--R90bk",
        "colab_type": "text"
      },
      "source": [
        "*O [pandas](https://pandas.pydata.org/) é uma ferramenta rápida, poderosa, flexível e fácil de usar para análise e manipulação de dados de código aberto construído sobre a linguagem de programação Python.*\n"
      ]
    },
    {
      "cell_type": "markdown",
      "metadata": {
        "id": "uufoDMem8m4p",
        "colab_type": "text"
      },
      "source": [
        "  Vamos conhecer um pouco mais sobre essa biblioteca que é a mais utilizada na exploração de um dataframe.\n",
        "  Vamos utilizar o dataset mais tocadas em maio de 2020 por paises disponivel no Kangle [aqui](https://www.kaggle.com/hkapoor/spotify-top-songs-by-country-may-2020)."
      ]
    },
    {
      "cell_type": "markdown",
      "metadata": {
        "id": "wcEHblU9D6EY",
        "colab_type": "text"
      },
      "source": [
        "Primeiro passo é a importação da nossa biblioteca: `import pandas as pd` urilizamos a palavra reservada `as` para criar um apelido que utilizaremos para chamarmos nossa biblioteca.\n"
      ]
    },
    {
      "cell_type": "code",
      "metadata": {
        "id": "rIlp764UjJ-O",
        "colab_type": "code",
        "colab": {}
      },
      "source": [
        "import pandas as pd \n"
      ],
      "execution_count": 0,
      "outputs": []
    },
    {
      "cell_type": "markdown",
      "metadata": {
        "id": "TvrK5QskLl3S",
        "colab_type": "text"
      },
      "source": [
        "Com a biblioteca já importada, abriremos nosso dataset, eu o importei dentro do meu drive e utilizei o caminho de lá.\n",
        "Passei o comando `pd.read_csv`. \n",
        "\n"
      ]
    },
    {
      "cell_type": "code",
      "metadata": {
        "id": "aMQbMNv7jx-T",
        "colab_type": "code",
        "outputId": "7f163164-3cec-45a3-def5-d5f88607652b",
        "colab": {
          "base_uri": "https://localhost:8080/",
          "height": 493
        }
      },
      "source": [
        "df=pd.read_csv('/content/drive/My Drive/Colab Notebooks/Treino_pessoal/Spotify-May2020.csv')\n",
        "df"
      ],
      "execution_count": 2,
      "outputs": [
        {
          "output_type": "execute_result",
          "data": {
            "text/html": [
              "<div>\n",
              "<style scoped>\n",
              "    .dataframe tbody tr th:only-of-type {\n",
              "        vertical-align: middle;\n",
              "    }\n",
              "\n",
              "    .dataframe tbody tr th {\n",
              "        vertical-align: top;\n",
              "    }\n",
              "\n",
              "    .dataframe thead th {\n",
              "        text-align: right;\n",
              "    }\n",
              "</style>\n",
              "<table border=\"1\" class=\"dataframe\">\n",
              "  <thead>\n",
              "    <tr style=\"text-align: right;\">\n",
              "      <th></th>\n",
              "      <th>Unnamed: 0</th>\n",
              "      <th>Country</th>\n",
              "      <th>Rank</th>\n",
              "      <th>Title</th>\n",
              "      <th>Artists</th>\n",
              "      <th>Album</th>\n",
              "      <th>Explicit</th>\n",
              "      <th>Duration</th>\n",
              "    </tr>\n",
              "  </thead>\n",
              "  <tbody>\n",
              "    <tr>\n",
              "      <th>0</th>\n",
              "      <td>0</td>\n",
              "      <td>Global</td>\n",
              "      <td>1</td>\n",
              "      <td>Rain On Me (with Ariana Grande)</td>\n",
              "      <td>Lady Gaga, Ariana Grande</td>\n",
              "      <td>Rain On Me (with Ariana Grande)</td>\n",
              "      <td>0</td>\n",
              "      <td>3:02</td>\n",
              "    </tr>\n",
              "    <tr>\n",
              "      <th>1</th>\n",
              "      <td>1</td>\n",
              "      <td>Global</td>\n",
              "      <td>2</td>\n",
              "      <td>Blinding Lights</td>\n",
              "      <td>The Weeknd</td>\n",
              "      <td>After Hours</td>\n",
              "      <td>0</td>\n",
              "      <td>3:20</td>\n",
              "    </tr>\n",
              "    <tr>\n",
              "      <th>2</th>\n",
              "      <td>2</td>\n",
              "      <td>Global</td>\n",
              "      <td>3</td>\n",
              "      <td>ROCKSTAR (feat. Roddy Ricch)</td>\n",
              "      <td>DaBaby, Roddy Ricch</td>\n",
              "      <td>BLAME IT ON BABY</td>\n",
              "      <td>1</td>\n",
              "      <td>3:01</td>\n",
              "    </tr>\n",
              "    <tr>\n",
              "      <th>3</th>\n",
              "      <td>3</td>\n",
              "      <td>Global</td>\n",
              "      <td>4</td>\n",
              "      <td>Roses - Imanbek Remix</td>\n",
              "      <td>SAINt JHN, Imanbek</td>\n",
              "      <td>Roses (Imanbek Remix)</td>\n",
              "      <td>1</td>\n",
              "      <td>2:56</td>\n",
              "    </tr>\n",
              "    <tr>\n",
              "      <th>4</th>\n",
              "      <td>4</td>\n",
              "      <td>Global</td>\n",
              "      <td>5</td>\n",
              "      <td>Toosie Slide</td>\n",
              "      <td>Drake</td>\n",
              "      <td>Dark Lane Demo Tapes</td>\n",
              "      <td>1</td>\n",
              "      <td>4:07</td>\n",
              "    </tr>\n",
              "    <tr>\n",
              "      <th>...</th>\n",
              "      <td>...</td>\n",
              "      <td>...</td>\n",
              "      <td>...</td>\n",
              "      <td>...</td>\n",
              "      <td>...</td>\n",
              "      <td>...</td>\n",
              "      <td>...</td>\n",
              "      <td>...</td>\n",
              "    </tr>\n",
              "    <tr>\n",
              "      <th>3145</th>\n",
              "      <td>3145</td>\n",
              "      <td>Vietnam</td>\n",
              "      <td>46</td>\n",
              "      <td>ĐÃ TỪNG LÀ</td>\n",
              "      <td>Vũ.</td>\n",
              "      <td>ĐÃ TỪNG LÀ</td>\n",
              "      <td>0</td>\n",
              "      <td>4:20</td>\n",
              "    </tr>\n",
              "    <tr>\n",
              "      <th>3146</th>\n",
              "      <td>3146</td>\n",
              "      <td>Vietnam</td>\n",
              "      <td>47</td>\n",
              "      <td>Mượn Rượu Tỏ Tình</td>\n",
              "      <td>BigDaddy, Emily</td>\n",
              "      <td>Mượn Rượu Tỏ Tình</td>\n",
              "      <td>0</td>\n",
              "      <td>3:18</td>\n",
              "    </tr>\n",
              "    <tr>\n",
              "      <th>3147</th>\n",
              "      <td>3147</td>\n",
              "      <td>Vietnam</td>\n",
              "      <td>48</td>\n",
              "      <td>Ngày Tận Thế</td>\n",
              "      <td>Tóc Tiên, Da LAB, Touliver</td>\n",
              "      <td>Ngày Tận Thế</td>\n",
              "      <td>0</td>\n",
              "      <td>3:52</td>\n",
              "    </tr>\n",
              "    <tr>\n",
              "      <th>3148</th>\n",
              "      <td>3148</td>\n",
              "      <td>Vietnam</td>\n",
              "      <td>49</td>\n",
              "      <td>Đi Đu Đưa Đi</td>\n",
              "      <td>Bich Phuong</td>\n",
              "      <td>Đi Đu Đưa Đi</td>\n",
              "      <td>0</td>\n",
              "      <td>3:40</td>\n",
              "    </tr>\n",
              "    <tr>\n",
              "      <th>3149</th>\n",
              "      <td>3149</td>\n",
              "      <td>Vietnam</td>\n",
              "      <td>50</td>\n",
              "      <td>Blinding Lights</td>\n",
              "      <td>The Weeknd</td>\n",
              "      <td>After Hours</td>\n",
              "      <td>0</td>\n",
              "      <td>3:20</td>\n",
              "    </tr>\n",
              "  </tbody>\n",
              "</table>\n",
              "<p>3150 rows × 8 columns</p>\n",
              "</div>"
            ],
            "text/plain": [
              "      Unnamed: 0  Country  ...  Explicit Duration\n",
              "0              0   Global  ...         0     3:02\n",
              "1              1   Global  ...         0     3:20\n",
              "2              2   Global  ...         1     3:01\n",
              "3              3   Global  ...         1     2:56\n",
              "4              4   Global  ...         1     4:07\n",
              "...          ...      ...  ...       ...      ...\n",
              "3145        3145  Vietnam  ...         0     4:20\n",
              "3146        3146  Vietnam  ...         0     3:18\n",
              "3147        3147  Vietnam  ...         0     3:52\n",
              "3148        3148  Vietnam  ...         0     3:40\n",
              "3149        3149  Vietnam  ...         0     3:20\n",
              "\n",
              "[3150 rows x 8 columns]"
            ]
          },
          "metadata": {
            "tags": []
          },
          "execution_count": 2
        }
      ]
    },
    {
      "cell_type": "markdown",
      "metadata": {
        "id": "-lKG5HMdWN_w",
        "colab_type": "text"
      },
      "source": [
        "Dataframe importado, vamos começar a explorar as opções do pandas"
      ]
    },
    {
      "cell_type": "code",
      "metadata": {
        "id": "HAcXG17GsnmX",
        "colab_type": "code",
        "outputId": "82cd6c28-2501-410a-c676-0f73ec2e0ee4",
        "colab": {
          "base_uri": "https://localhost:8080/",
          "height": 237
        }
      },
      "source": [
        "df[\"Country\"]\n"
      ],
      "execution_count": 3,
      "outputs": [
        {
          "output_type": "execute_result",
          "data": {
            "text/plain": [
              "0        Global\n",
              "1        Global\n",
              "2        Global\n",
              "3        Global\n",
              "4        Global\n",
              "         ...   \n",
              "3145    Vietnam\n",
              "3146    Vietnam\n",
              "3147    Vietnam\n",
              "3148    Vietnam\n",
              "3149    Vietnam\n",
              "Name: Country, Length: 3150, dtype: object"
            ]
          },
          "metadata": {
            "tags": []
          },
          "execution_count": 3
        }
      ]
    },
    {
      "cell_type": "code",
      "metadata": {
        "id": "jYHnO6wTuGgJ",
        "colab_type": "code",
        "outputId": "f717169e-988d-47ba-aef0-41f91d08f0fe",
        "colab": {
          "base_uri": "https://localhost:8080/",
          "height": 258
        }
      },
      "source": [
        "\n",
        "df.head()"
      ],
      "execution_count": 4,
      "outputs": [
        {
          "output_type": "execute_result",
          "data": {
            "text/html": [
              "<div>\n",
              "<style scoped>\n",
              "    .dataframe tbody tr th:only-of-type {\n",
              "        vertical-align: middle;\n",
              "    }\n",
              "\n",
              "    .dataframe tbody tr th {\n",
              "        vertical-align: top;\n",
              "    }\n",
              "\n",
              "    .dataframe thead th {\n",
              "        text-align: right;\n",
              "    }\n",
              "</style>\n",
              "<table border=\"1\" class=\"dataframe\">\n",
              "  <thead>\n",
              "    <tr style=\"text-align: right;\">\n",
              "      <th></th>\n",
              "      <th>Unnamed: 0</th>\n",
              "      <th>Country</th>\n",
              "      <th>Rank</th>\n",
              "      <th>Title</th>\n",
              "      <th>Artists</th>\n",
              "      <th>Album</th>\n",
              "      <th>Explicit</th>\n",
              "      <th>Duration</th>\n",
              "    </tr>\n",
              "  </thead>\n",
              "  <tbody>\n",
              "    <tr>\n",
              "      <th>0</th>\n",
              "      <td>0</td>\n",
              "      <td>Global</td>\n",
              "      <td>1</td>\n",
              "      <td>Rain On Me (with Ariana Grande)</td>\n",
              "      <td>Lady Gaga, Ariana Grande</td>\n",
              "      <td>Rain On Me (with Ariana Grande)</td>\n",
              "      <td>0</td>\n",
              "      <td>3:02</td>\n",
              "    </tr>\n",
              "    <tr>\n",
              "      <th>1</th>\n",
              "      <td>1</td>\n",
              "      <td>Global</td>\n",
              "      <td>2</td>\n",
              "      <td>Blinding Lights</td>\n",
              "      <td>The Weeknd</td>\n",
              "      <td>After Hours</td>\n",
              "      <td>0</td>\n",
              "      <td>3:20</td>\n",
              "    </tr>\n",
              "    <tr>\n",
              "      <th>2</th>\n",
              "      <td>2</td>\n",
              "      <td>Global</td>\n",
              "      <td>3</td>\n",
              "      <td>ROCKSTAR (feat. Roddy Ricch)</td>\n",
              "      <td>DaBaby, Roddy Ricch</td>\n",
              "      <td>BLAME IT ON BABY</td>\n",
              "      <td>1</td>\n",
              "      <td>3:01</td>\n",
              "    </tr>\n",
              "    <tr>\n",
              "      <th>3</th>\n",
              "      <td>3</td>\n",
              "      <td>Global</td>\n",
              "      <td>4</td>\n",
              "      <td>Roses - Imanbek Remix</td>\n",
              "      <td>SAINt JHN, Imanbek</td>\n",
              "      <td>Roses (Imanbek Remix)</td>\n",
              "      <td>1</td>\n",
              "      <td>2:56</td>\n",
              "    </tr>\n",
              "    <tr>\n",
              "      <th>4</th>\n",
              "      <td>4</td>\n",
              "      <td>Global</td>\n",
              "      <td>5</td>\n",
              "      <td>Toosie Slide</td>\n",
              "      <td>Drake</td>\n",
              "      <td>Dark Lane Demo Tapes</td>\n",
              "      <td>1</td>\n",
              "      <td>4:07</td>\n",
              "    </tr>\n",
              "  </tbody>\n",
              "</table>\n",
              "</div>"
            ],
            "text/plain": [
              "   Unnamed: 0 Country  Rank  ...                            Album Explicit Duration\n",
              "0           0  Global     1  ...  Rain On Me (with Ariana Grande)        0     3:02\n",
              "1           1  Global     2  ...                      After Hours        0     3:20\n",
              "2           2  Global     3  ...                 BLAME IT ON BABY        1     3:01\n",
              "3           3  Global     4  ...            Roses (Imanbek Remix)        1     2:56\n",
              "4           4  Global     5  ...             Dark Lane Demo Tapes        1     4:07\n",
              "\n",
              "[5 rows x 8 columns]"
            ]
          },
          "metadata": {
            "tags": []
          },
          "execution_count": 4
        }
      ]
    },
    {
      "cell_type": "code",
      "metadata": {
        "id": "XY6bhnquuU9u",
        "colab_type": "code",
        "outputId": "7d67bee7-195d-4fc1-e76d-7c49bd5e40dc",
        "colab": {
          "base_uri": "https://localhost:8080/",
          "height": 72
        }
      },
      "source": [
        "df.columns"
      ],
      "execution_count": 5,
      "outputs": [
        {
          "output_type": "execute_result",
          "data": {
            "text/plain": [
              "Index(['Unnamed: 0', 'Country', 'Rank', 'Title', 'Artists', 'Album',\n",
              "       'Explicit', 'Duration'],\n",
              "      dtype='object')"
            ]
          },
          "metadata": {
            "tags": []
          },
          "execution_count": 5
        }
      ]
    },
    {
      "cell_type": "code",
      "metadata": {
        "id": "hN5d8fP3u4fO",
        "colab_type": "code",
        "outputId": "0327e98c-91c2-4b43-d720-c824b1acb8c1",
        "colab": {
          "base_uri": "https://localhost:8080/",
          "height": 164
        }
      },
      "source": [
        "df.values"
      ],
      "execution_count": 6,
      "outputs": [
        {
          "output_type": "execute_result",
          "data": {
            "text/plain": [
              "array([[0, 'Global', 1, ..., 'Rain On Me (with Ariana Grande)', 0,\n",
              "        '3:02'],\n",
              "       [1, 'Global', 2, ..., 'After Hours', 0, '3:20'],\n",
              "       [2, 'Global', 3, ..., 'BLAME IT ON BABY', 1, '3:01'],\n",
              "       ...,\n",
              "       [3147, 'Vietnam', 48, ..., 'Ngày Tận Thế', 0, '3:52'],\n",
              "       [3148, 'Vietnam', 49, ..., 'Đi Đu Đưa Đi', 0, '3:40'],\n",
              "       [3149, 'Vietnam', 50, ..., 'After Hours', 0, '3:20']], dtype=object)"
            ]
          },
          "metadata": {
            "tags": []
          },
          "execution_count": 6
        }
      ]
    },
    {
      "cell_type": "code",
      "metadata": {
        "id": "iDzG9wQEvDQj",
        "colab_type": "code",
        "outputId": "299c08e4-abd5-46e3-e048-6aab6fa067e0",
        "colab": {
          "base_uri": "https://localhost:8080/",
          "height": 244
        }
      },
      "source": [
        "df.loc[[100,200,300,400]]"
      ],
      "execution_count": 7,
      "outputs": [
        {
          "output_type": "execute_result",
          "data": {
            "text/html": [
              "<div>\n",
              "<style scoped>\n",
              "    .dataframe tbody tr th:only-of-type {\n",
              "        vertical-align: middle;\n",
              "    }\n",
              "\n",
              "    .dataframe tbody tr th {\n",
              "        vertical-align: top;\n",
              "    }\n",
              "\n",
              "    .dataframe thead th {\n",
              "        text-align: right;\n",
              "    }\n",
              "</style>\n",
              "<table border=\"1\" class=\"dataframe\">\n",
              "  <thead>\n",
              "    <tr style=\"text-align: right;\">\n",
              "      <th></th>\n",
              "      <th>Unnamed: 0</th>\n",
              "      <th>Country</th>\n",
              "      <th>Rank</th>\n",
              "      <th>Title</th>\n",
              "      <th>Artists</th>\n",
              "      <th>Album</th>\n",
              "      <th>Explicit</th>\n",
              "      <th>Duration</th>\n",
              "    </tr>\n",
              "  </thead>\n",
              "  <tbody>\n",
              "    <tr>\n",
              "      <th>100</th>\n",
              "      <td>100</td>\n",
              "      <td>Australia</td>\n",
              "      <td>1</td>\n",
              "      <td>ROCKSTAR (feat. Roddy Ricch)</td>\n",
              "      <td>DaBaby, Roddy Ricch</td>\n",
              "      <td>BLAME IT ON BABY</td>\n",
              "      <td>1</td>\n",
              "      <td>3:01</td>\n",
              "    </tr>\n",
              "    <tr>\n",
              "      <th>200</th>\n",
              "      <td>200</td>\n",
              "      <td>Belgium</td>\n",
              "      <td>1</td>\n",
              "      <td>Blinding Lights</td>\n",
              "      <td>The Weeknd</td>\n",
              "      <td>After Hours</td>\n",
              "      <td>0</td>\n",
              "      <td>3:20</td>\n",
              "    </tr>\n",
              "    <tr>\n",
              "      <th>300</th>\n",
              "      <td>300</td>\n",
              "      <td>Brazil</td>\n",
              "      <td>1</td>\n",
              "      <td>A Gente Fez Amor - Ao Vivo</td>\n",
              "      <td>Gusttavo Lima</td>\n",
              "      <td>O Embaixador in Cariri (Ao Vivo)</td>\n",
              "      <td>0</td>\n",
              "      <td>3:57</td>\n",
              "    </tr>\n",
              "    <tr>\n",
              "      <th>400</th>\n",
              "      <td>400</td>\n",
              "      <td>Canada</td>\n",
              "      <td>1</td>\n",
              "      <td>ROCKSTAR (feat. Roddy Ricch)</td>\n",
              "      <td>DaBaby, Roddy Ricch</td>\n",
              "      <td>BLAME IT ON BABY</td>\n",
              "      <td>1</td>\n",
              "      <td>3:01</td>\n",
              "    </tr>\n",
              "  </tbody>\n",
              "</table>\n",
              "</div>"
            ],
            "text/plain": [
              "     Unnamed: 0    Country  ...  Explicit Duration\n",
              "100         100  Australia  ...         1     3:01\n",
              "200         200    Belgium  ...         0     3:20\n",
              "300         300     Brazil  ...         0     3:57\n",
              "400         400     Canada  ...         1     3:01\n",
              "\n",
              "[4 rows x 8 columns]"
            ]
          },
          "metadata": {
            "tags": []
          },
          "execution_count": 7
        }
      ]
    },
    {
      "cell_type": "code",
      "metadata": {
        "id": "ZOwyxrLrUC7X",
        "colab_type": "code",
        "outputId": "10fdc41d-f962-429f-d156-d8d5940a8295",
        "colab": {
          "base_uri": "https://localhost:8080/",
          "height": 258
        }
      },
      "source": [
        "df.head()"
      ],
      "execution_count": 8,
      "outputs": [
        {
          "output_type": "execute_result",
          "data": {
            "text/html": [
              "<div>\n",
              "<style scoped>\n",
              "    .dataframe tbody tr th:only-of-type {\n",
              "        vertical-align: middle;\n",
              "    }\n",
              "\n",
              "    .dataframe tbody tr th {\n",
              "        vertical-align: top;\n",
              "    }\n",
              "\n",
              "    .dataframe thead th {\n",
              "        text-align: right;\n",
              "    }\n",
              "</style>\n",
              "<table border=\"1\" class=\"dataframe\">\n",
              "  <thead>\n",
              "    <tr style=\"text-align: right;\">\n",
              "      <th></th>\n",
              "      <th>Unnamed: 0</th>\n",
              "      <th>Country</th>\n",
              "      <th>Rank</th>\n",
              "      <th>Title</th>\n",
              "      <th>Artists</th>\n",
              "      <th>Album</th>\n",
              "      <th>Explicit</th>\n",
              "      <th>Duration</th>\n",
              "    </tr>\n",
              "  </thead>\n",
              "  <tbody>\n",
              "    <tr>\n",
              "      <th>0</th>\n",
              "      <td>0</td>\n",
              "      <td>Global</td>\n",
              "      <td>1</td>\n",
              "      <td>Rain On Me (with Ariana Grande)</td>\n",
              "      <td>Lady Gaga, Ariana Grande</td>\n",
              "      <td>Rain On Me (with Ariana Grande)</td>\n",
              "      <td>0</td>\n",
              "      <td>3:02</td>\n",
              "    </tr>\n",
              "    <tr>\n",
              "      <th>1</th>\n",
              "      <td>1</td>\n",
              "      <td>Global</td>\n",
              "      <td>2</td>\n",
              "      <td>Blinding Lights</td>\n",
              "      <td>The Weeknd</td>\n",
              "      <td>After Hours</td>\n",
              "      <td>0</td>\n",
              "      <td>3:20</td>\n",
              "    </tr>\n",
              "    <tr>\n",
              "      <th>2</th>\n",
              "      <td>2</td>\n",
              "      <td>Global</td>\n",
              "      <td>3</td>\n",
              "      <td>ROCKSTAR (feat. Roddy Ricch)</td>\n",
              "      <td>DaBaby, Roddy Ricch</td>\n",
              "      <td>BLAME IT ON BABY</td>\n",
              "      <td>1</td>\n",
              "      <td>3:01</td>\n",
              "    </tr>\n",
              "    <tr>\n",
              "      <th>3</th>\n",
              "      <td>3</td>\n",
              "      <td>Global</td>\n",
              "      <td>4</td>\n",
              "      <td>Roses - Imanbek Remix</td>\n",
              "      <td>SAINt JHN, Imanbek</td>\n",
              "      <td>Roses (Imanbek Remix)</td>\n",
              "      <td>1</td>\n",
              "      <td>2:56</td>\n",
              "    </tr>\n",
              "    <tr>\n",
              "      <th>4</th>\n",
              "      <td>4</td>\n",
              "      <td>Global</td>\n",
              "      <td>5</td>\n",
              "      <td>Toosie Slide</td>\n",
              "      <td>Drake</td>\n",
              "      <td>Dark Lane Demo Tapes</td>\n",
              "      <td>1</td>\n",
              "      <td>4:07</td>\n",
              "    </tr>\n",
              "  </tbody>\n",
              "</table>\n",
              "</div>"
            ],
            "text/plain": [
              "   Unnamed: 0 Country  Rank  ...                            Album Explicit Duration\n",
              "0           0  Global     1  ...  Rain On Me (with Ariana Grande)        0     3:02\n",
              "1           1  Global     2  ...                      After Hours        0     3:20\n",
              "2           2  Global     3  ...                 BLAME IT ON BABY        1     3:01\n",
              "3           3  Global     4  ...            Roses (Imanbek Remix)        1     2:56\n",
              "4           4  Global     5  ...             Dark Lane Demo Tapes        1     4:07\n",
              "\n",
              "[5 rows x 8 columns]"
            ]
          },
          "metadata": {
            "tags": []
          },
          "execution_count": 8
        }
      ]
    },
    {
      "cell_type": "code",
      "metadata": {
        "id": "3_DF3y-VWG00",
        "colab_type": "code",
        "outputId": "2b00d04d-bdef-488e-910a-06fd020fd51e",
        "colab": {
          "base_uri": "https://localhost:8080/",
          "height": 238
        }
      },
      "source": [
        "pais_ = df.groupby('Country').sum()\n",
        "pais_.head()\n"
      ],
      "execution_count": 9,
      "outputs": [
        {
          "output_type": "execute_result",
          "data": {
            "text/html": [
              "<div>\n",
              "<style scoped>\n",
              "    .dataframe tbody tr th:only-of-type {\n",
              "        vertical-align: middle;\n",
              "    }\n",
              "\n",
              "    .dataframe tbody tr th {\n",
              "        vertical-align: top;\n",
              "    }\n",
              "\n",
              "    .dataframe thead th {\n",
              "        text-align: right;\n",
              "    }\n",
              "</style>\n",
              "<table border=\"1\" class=\"dataframe\">\n",
              "  <thead>\n",
              "    <tr style=\"text-align: right;\">\n",
              "      <th></th>\n",
              "      <th>Unnamed: 0</th>\n",
              "      <th>Rank</th>\n",
              "      <th>Explicit</th>\n",
              "    </tr>\n",
              "    <tr>\n",
              "      <th>Country</th>\n",
              "      <th></th>\n",
              "      <th></th>\n",
              "      <th></th>\n",
              "    </tr>\n",
              "  </thead>\n",
              "  <tbody>\n",
              "    <tr>\n",
              "      <th>Argentina</th>\n",
              "      <td>3725</td>\n",
              "      <td>1275</td>\n",
              "      <td>14</td>\n",
              "    </tr>\n",
              "    <tr>\n",
              "      <th>Australia</th>\n",
              "      <td>6225</td>\n",
              "      <td>1275</td>\n",
              "      <td>21</td>\n",
              "    </tr>\n",
              "    <tr>\n",
              "      <th>Austria</th>\n",
              "      <td>8725</td>\n",
              "      <td>1275</td>\n",
              "      <td>17</td>\n",
              "    </tr>\n",
              "    <tr>\n",
              "      <th>Belgium</th>\n",
              "      <td>11225</td>\n",
              "      <td>1275</td>\n",
              "      <td>17</td>\n",
              "    </tr>\n",
              "    <tr>\n",
              "      <th>Bolivia</th>\n",
              "      <td>13725</td>\n",
              "      <td>1275</td>\n",
              "      <td>13</td>\n",
              "    </tr>\n",
              "  </tbody>\n",
              "</table>\n",
              "</div>"
            ],
            "text/plain": [
              "           Unnamed: 0  Rank  Explicit\n",
              "Country                              \n",
              "Argentina        3725  1275        14\n",
              "Australia        6225  1275        21\n",
              "Austria          8725  1275        17\n",
              "Belgium         11225  1275        17\n",
              "Bolivia         13725  1275        13"
            ]
          },
          "metadata": {
            "tags": []
          },
          "execution_count": 9
        }
      ]
    },
    {
      "cell_type": "code",
      "metadata": {
        "id": "HeB_2DoNZBRd",
        "colab_type": "code",
        "colab": {}
      },
      "source": [
        ""
      ],
      "execution_count": 0,
      "outputs": []
    }
  ]
}